{
  "cells": [
    {
      "cell_type": "markdown",
      "metadata": {
        "id": "b6t8IVjq6E2r"
      },
      "source": [
        "# Libraries "
      ]
    },
    {
      "cell_type": "code",
      "execution_count": 18,
      "metadata": {
        "colab": {
          "base_uri": "https://localhost:8080/"
        },
        "id": "j7kq4cbc5s24",
        "outputId": "d890f8d6-7381-4818-ce08-b600495e7737"
      },
      "outputs": [
        {
          "name": "stdout",
          "output_type": "stream",
          "text": [
            "Looking in indexes: https://pypi.org/simple, https://us-python.pkg.dev/colab-wheels/public/simple/\n",
            "Requirement already satisfied: networkx in /usr/local/lib/python3.7/dist-packages (2.6.3)\n",
            "Looking in indexes: https://pypi.org/simple, https://us-python.pkg.dev/colab-wheels/public/simple/\n",
            "Requirement already satisfied: sentence-transformers in /usr/local/lib/python3.7/dist-packages (2.2.2)\n",
            "Requirement already satisfied: transformers<5.0.0,>=4.6.0 in /usr/local/lib/python3.7/dist-packages (from sentence-transformers) (4.20.1)\n",
            "Requirement already satisfied: numpy in /usr/local/lib/python3.7/dist-packages (from sentence-transformers) (1.21.6)\n",
            "Requirement already satisfied: scipy in /usr/local/lib/python3.7/dist-packages (from sentence-transformers) (1.4.1)\n",
            "Requirement already satisfied: nltk in /usr/local/lib/python3.7/dist-packages (from sentence-transformers) (3.7)\n",
            "Requirement already satisfied: huggingface-hub>=0.4.0 in /usr/local/lib/python3.7/dist-packages (from sentence-transformers) (0.8.1)\n",
            "Requirement already satisfied: scikit-learn in /usr/local/lib/python3.7/dist-packages (from sentence-transformers) (1.0.2)\n",
            "Requirement already satisfied: tqdm in /usr/local/lib/python3.7/dist-packages (from sentence-transformers) (4.64.0)\n",
            "Requirement already satisfied: sentencepiece in /usr/local/lib/python3.7/dist-packages (from sentence-transformers) (0.1.96)\n",
            "Requirement already satisfied: torch>=1.6.0 in /usr/local/lib/python3.7/dist-packages (from sentence-transformers) (1.11.0+cu113)\n",
            "Requirement already satisfied: torchvision in /usr/local/lib/python3.7/dist-packages (from sentence-transformers) (0.12.0+cu113)\n",
            "Requirement already satisfied: requests in /usr/local/lib/python3.7/dist-packages (from huggingface-hub>=0.4.0->sentence-transformers) (2.23.0)\n",
            "Requirement already satisfied: pyyaml>=5.1 in /usr/local/lib/python3.7/dist-packages (from huggingface-hub>=0.4.0->sentence-transformers) (6.0)\n",
            "Requirement already satisfied: packaging>=20.9 in /usr/local/lib/python3.7/dist-packages (from huggingface-hub>=0.4.0->sentence-transformers) (21.3)\n",
            "Requirement already satisfied: typing-extensions>=3.7.4.3 in /usr/local/lib/python3.7/dist-packages (from huggingface-hub>=0.4.0->sentence-transformers) (4.1.1)\n",
            "Requirement already satisfied: importlib-metadata in /usr/local/lib/python3.7/dist-packages (from huggingface-hub>=0.4.0->sentence-transformers) (4.11.4)\n",
            "Requirement already satisfied: filelock in /usr/local/lib/python3.7/dist-packages (from huggingface-hub>=0.4.0->sentence-transformers) (3.7.1)\n",
            "Requirement already satisfied: pyparsing!=3.0.5,>=2.0.2 in /usr/local/lib/python3.7/dist-packages (from packaging>=20.9->huggingface-hub>=0.4.0->sentence-transformers) (3.0.9)\n",
            "Requirement already satisfied: tokenizers!=0.11.3,<0.13,>=0.11.1 in /usr/local/lib/python3.7/dist-packages (from transformers<5.0.0,>=4.6.0->sentence-transformers) (0.12.1)\n",
            "Requirement already satisfied: regex!=2019.12.17 in /usr/local/lib/python3.7/dist-packages (from transformers<5.0.0,>=4.6.0->sentence-transformers) (2022.6.2)\n",
            "Requirement already satisfied: zipp>=0.5 in /usr/local/lib/python3.7/dist-packages (from importlib-metadata->huggingface-hub>=0.4.0->sentence-transformers) (3.8.0)\n",
            "Requirement already satisfied: click in /usr/local/lib/python3.7/dist-packages (from nltk->sentence-transformers) (7.1.2)\n",
            "Requirement already satisfied: joblib in /usr/local/lib/python3.7/dist-packages (from nltk->sentence-transformers) (1.1.0)\n",
            "Requirement already satisfied: chardet<4,>=3.0.2 in /usr/local/lib/python3.7/dist-packages (from requests->huggingface-hub>=0.4.0->sentence-transformers) (3.0.4)\n",
            "Requirement already satisfied: idna<3,>=2.5 in /usr/local/lib/python3.7/dist-packages (from requests->huggingface-hub>=0.4.0->sentence-transformers) (2.10)\n",
            "Requirement already satisfied: urllib3!=1.25.0,!=1.25.1,<1.26,>=1.21.1 in /usr/local/lib/python3.7/dist-packages (from requests->huggingface-hub>=0.4.0->sentence-transformers) (1.24.3)\n",
            "Requirement already satisfied: certifi>=2017.4.17 in /usr/local/lib/python3.7/dist-packages (from requests->huggingface-hub>=0.4.0->sentence-transformers) (2022.6.15)\n",
            "Requirement already satisfied: threadpoolctl>=2.0.0 in /usr/local/lib/python3.7/dist-packages (from scikit-learn->sentence-transformers) (3.1.0)\n",
            "Requirement already satisfied: pillow!=8.3.*,>=5.3.0 in /usr/local/lib/python3.7/dist-packages (from torchvision->sentence-transformers) (7.1.2)\n",
            "Looking in indexes: https://pypi.org/simple, https://us-python.pkg.dev/colab-wheels/public/simple/\n",
            "Requirement already satisfied: python-louvain in /usr/local/lib/python3.7/dist-packages (0.16)\n",
            "Requirement already satisfied: numpy in /usr/local/lib/python3.7/dist-packages (from python-louvain) (1.21.6)\n",
            "Requirement already satisfied: networkx in /usr/local/lib/python3.7/dist-packages (from python-louvain) (2.6.3)\n"
          ]
        }
      ],
      "source": [
        "# !pip install transformers\n",
        "!pip install networkx\n",
        "# !pip install \"tensorflow>=2.0.0\"\n",
        "# !pip install --upgrade tensorflow-hub\n",
        "!pip install -U sentence-transformers\n",
        "!pip install python-louvain"
      ]
    },
    {
      "cell_type": "code",
      "execution_count": 19,
      "metadata": {
        "id": "1U9353AC6IhY"
      },
      "outputs": [],
      "source": [
        "import matplotlib.pyplot as plt\n",
        "import json\n",
        "import re\n",
        "import pandas as pd\n",
        "import networkx as nx\n",
        "from collections import Counter\n",
        "import numpy as np\n",
        "from sentence_transformers import SentenceTransformer, util\n",
        "from community import community_louvain\n",
        "from networkx.algorithms import community\n",
        "import math\n",
        "import random\n",
        "model = SentenceTransformer('paraphrase-MiniLM-L6-v2')\n",
        "\n"
      ]
    },
    {
      "cell_type": "markdown",
      "metadata": {
        "id": "bXs6mRGO6G-o"
      },
      "source": [
        "# Initial Graph Creation "
      ]
    },
    {
      "cell_type": "code",
      "execution_count": 20,
      "metadata": {
        "id": "wXUtLgRO6Eio"
      },
      "outputs": [],
      "source": [
        "#df = pd.read_csv(\"./hashtag_donaldtrump_cleaned.csv\", lineterminator='\\n')\n",
        "#df = pd.read_csv(\"./trump_stance_train_public.csv\")\n",
        "\n",
        "df = pd.read_csv(\"./trump_stance_dataset.csv\")\n",
        "df['text'] = df['text'].apply(lambda x: x.replace('@USER',''))\n",
        "df = df.loc[(df['label'] == \"FAVOR\") | ( df['label'] == \"AGAINST\")]\n",
        "cleaned_tweets = list(df['text'])\n",
        "cleaned_labels = list(df['label'])\n",
        "\n",
        "def find_hashtags(sents):\n",
        "    p = re.compile(r'(\\#\\w+)')\n",
        "    return list(p.findall(sents))\n",
        "\n",
        "hashtweets = list(map(find_hashtags, cleaned_tweets))\n",
        "\n",
        "i = 0\n",
        "hastags_unique = set()\n",
        "for tweets in hashtweets:\n",
        "    for tweet in tweets:\n",
        "        hastags_unique.add(tweet)\n",
        "        "
      ]
    },
    {
      "cell_type": "code",
      "execution_count": 21,
      "metadata": {
        "colab": {
          "base_uri": "https://localhost:8080/"
        },
        "id": "cTYl76f46Nfe",
        "outputId": "74711af6-a79b-47a6-9606-349581cd3080"
      },
      "outputs": [
        {
          "name": "stdout",
          "output_type": "stream",
          "text": [
            "1267\n"
          ]
        }
      ],
      "source": [
        "print(len(hastags_unique))"
      ]
    },
    {
      "cell_type": "code",
      "execution_count": 22,
      "metadata": {
        "colab": {
          "base_uri": "https://localhost:8080/"
        },
        "id": "ZmZhJXX06asb",
        "outputId": "f220e821-05c0-431f-8619-629dc5beba76"
      },
      "outputs": [
        {
          "name": "stdout",
          "output_type": "stream",
          "text": [
            "1267\n",
            "number removed 402.00\n"
          ]
        }
      ],
      "source": [
        "G = nx.Graph()\n",
        "weights = nx.get_edge_attributes(G,'weight')\n",
        "for hashstag in hastags_unique:\n",
        "    G.add_node(hashstag)\n",
        "print(G.number_of_nodes())\n",
        "\n",
        "for ht_set in hashtweets:\n",
        "    for ht1 in ht_set:\n",
        "        for ht2 in ht_set:\n",
        "            if ht1 != ht2:\n",
        "                if G.has_edge(ht1,ht2):\n",
        "                    w = G[ht1][ht2]['weight'] + 1\n",
        "                    ##print(ht1,ht2)\n",
        "                    nx.set_edge_attributes(G, {(ht1, ht2): {\"weight\": w}}) \n",
        "                else:\n",
        "                    G.add_edge(ht1,ht2,weight=1)    \n",
        "\n",
        "count_no_neigh =  0 \n",
        "for n1 in list(G.nodes(data=True)):\n",
        "    if len(list(G.neighbors(n1[0]))) <= 3:\n",
        "        G.remove_node(n1[0])\n",
        "        count_no_neigh += 1\n",
        "\n",
        "print(\"number removed {count_no:.2f}\".format(count_no= count_no_neigh))\n"
      ]
    },
    {
      "cell_type": "code",
      "execution_count": 23,
      "metadata": {
        "colab": {
          "base_uri": "https://localhost:8080/"
        },
        "id": "O725P-ke6iTG",
        "outputId": "562de8fc-9a32-4b3d-8caa-cb662adf00db"
      },
      "outputs": [
        {
          "name": "stdout",
          "output_type": "stream",
          "text": [
            "removal of 4751.00 edges\n",
            "865\n"
          ]
        }
      ],
      "source": [
        "# unpack remove\n",
        "removed_total_edge = 0\n",
        "for node_details in list(G.edges(data=True)):\n",
        "  try:\n",
        "    if node_details[2]['weight'] <= 2:\n",
        "      e = (node_details[0], node_details[1])\n",
        "      removed_total_edge+= 1\n",
        "      G.remove_edge(*e)\n",
        "  except:\n",
        "    print(node_details[0],node_details[1])\n",
        "   \n",
        "\n",
        "print(\"removal of {removed:.2f} edges\".format(removed=removed_total_edge))\n",
        "print(G.number_of_nodes())\n",
        "\n",
        "# retrieve new nodes\n",
        "New_nodes = []\n",
        "for node in G.nodes(data=True):\n",
        "  New_nodes.append(node[0])"
      ]
    },
    {
      "cell_type": "markdown",
      "metadata": {
        "id": "UsanwkxH6wn_"
      },
      "source": [
        "# Building Sbert\n"
      ]
    },
    {
      "cell_type": "code",
      "execution_count": 24,
      "metadata": {
        "colab": {
          "base_uri": "https://localhost:8080/"
        },
        "id": "UvnSPOgt6vkm",
        "outputId": "7b389765-f21d-4c66-8f02-bdcc71e731a5"
      },
      "outputs": [
        {
          "name": "stdout",
          "output_type": "stream",
          "text": [
            "865\n"
          ]
        }
      ],
      "source": [
        "sentences_dict = {}\n",
        "factor_dict ={}\n",
        "factor_raw_dict = {}\n",
        "\n",
        "def calculate_ratio_support(labels_count):\n",
        "  alpha = 0.5\n",
        "  F = labels_count.count('FAVOR')\n",
        "  A = labels_count.count('AGAINST')\n",
        "  C = \"\"\n",
        "  factor = 0\n",
        "  if F == 0 or A == 0:\n",
        "    return 1 \n",
        "  if F > A:\n",
        "    factor =  1 - alpha * (A/F)\n",
        "  elif A > F:\n",
        "    factor = 1 - alpha * (F/A)\n",
        "  else:\n",
        "    factor = 0.5 \n",
        "  return factor\n",
        "  \n",
        "\n",
        "for hashtags in range(0,len(list(New_nodes))):\n",
        "  cumu_sents = []\n",
        "  labels_sents = []\n",
        "  for ctweets in range(0, len(cleaned_tweets)):\n",
        "    if list(New_nodes)[hashtags] in cleaned_tweets[ctweets]:\n",
        "      cumu_sents.append(cleaned_tweets[ctweets].replace(list(New_nodes)[hashtags], ''))\n",
        "      labels_sents.append(cleaned_labels[ctweets])\n",
        "    factor_sents = calculate_ratio_support(labels_sents)\n",
        "    sentences_dict[list(New_nodes)[hashtags]] = cumu_sents\n",
        "    factor_dict[list(New_nodes)[hashtags]] = factor_sents\n",
        "    factor_raw_dict[list(New_nodes)[hashtags]] = Counter(labels_sents)\n",
        "\n",
        "def calculate_pooled_avg(embeddings):\n",
        "    embed_converted = np.array([np.array(xi) for xi in embeddings])\n",
        "    pooled_average = np.zeros(len(embed_converted[0]))\n",
        "    for i in range(0, len(embed_converted[0])):\n",
        "      for j in range(0,len(embed_converted)):\n",
        "        pooled_average[i] += embed_converted[j][i]\n",
        "      pooled_average[i] = pooled_average[i]/len(embed_converted)\n",
        "    return pooled_average\n",
        "\n",
        "def embeddings_churn(sentences_dict):\n",
        "  embed_converted = {}\n",
        "  for hashtag, sentences in sentences_dict.items():\n",
        "      #print(\"Sentence:\", sentences)\n",
        "      embeddings = model.encode(sentences)\n",
        "      #print(embeddings)\n",
        "      embed_converted[hashtag] = calculate_pooled_avg(embeddings)\n",
        "  return embed_converted\n",
        "\n",
        "embeddings_calculated = embeddings_churn(sentences_dict)\n",
        "print(len(embeddings_calculated))\n",
        "\n",
        "# apply factor \n",
        "for hashtag, embedding in embeddings_calculated.items():\n",
        "  embeddings_calculated[hashtag] = embedding * factor_dict[hashtag]\n"
      ]
    },
    {
      "cell_type": "code",
      "execution_count": 25,
      "metadata": {
        "id": "lP4zE-6n67Sk"
      },
      "outputs": [],
      "source": [
        "# # can save if you need to \n",
        "# import json\n",
        "# with open('sentences_dict.txt', 'w') as file:\n",
        "#      file.write(json.dumps(sentences_dict)) # use `json.loads` to do the reverse\n",
        "\n",
        "# with open('factor_dict.txt', 'w') as file:\n",
        "#      file.write(json.dumps(factor_dict)) # use `json.loads` to do the reverse"
      ]
    },
    {
      "cell_type": "markdown",
      "metadata": {
        "id": "dIOZDRUZ7dg7"
      },
      "source": [
        "# Final Contextual Hashtag Selection"
      ]
    },
    {
      "cell_type": "code",
      "execution_count": 26,
      "metadata": {
        "colab": {
          "base_uri": "https://localhost:8080/"
        },
        "id": "y090dRFP7EvS",
        "outputId": "8847628a-9f85-4931-acbe-4bc809f2289f"
      },
      "outputs": [
        {
          "name": "stdout",
          "output_type": "stream",
          "text": [
            "875\n"
          ]
        }
      ],
      "source": [
        "# embeddings_calculated\n",
        "\n",
        "G = nx.petersen_graph()\n",
        "weights = nx.get_edge_attributes(G,'weight')\n",
        "for hashstag in New_nodes:\n",
        "    G.add_node(hashstag)\n",
        "\n",
        "print(G.number_of_nodes())\n",
        "\n",
        "\n",
        "def find_hashtags(sents):\n",
        "    p = re.compile(r'(\\#\\w+)')\n",
        "    return list(set(New_nodes) & set(list(p.findall(sents))))\n",
        "    \n",
        "hashtweets = list(map(find_hashtags, cleaned_tweets))\n",
        "\n",
        "for ht_set in hashtweets:\n",
        "    for ht1 in ht_set:\n",
        "        for ht2 in ht_set:\n",
        "            if ht1 != ht2:\n",
        "                if G.has_edge(ht1,ht2):\n",
        "                    w = G[ht1][ht2]['weight'] * 2\n",
        "                    ##print(ht1,ht2)\n",
        "                    nx.set_edge_attributes(G, {(ht1, ht2): {\"weight\": w}}) \n",
        "                else:\n",
        "                    G.add_edge(ht1,ht2,weight=util.cos_sim(embeddings_calculated[ht1], embeddings_calculated[ht2]))\n",
        "\n",
        "\n",
        "for node_details in list(G.edges(data=True)):\n",
        "  if \"weight\" in node_details[2]:\n",
        "      nx.set_edge_attributes(G, {(node_details[0], node_details[1]): {\"weight\": np.log(node_details[2]['weight'].numpy()[0][0])}})"
      ]
    },
    {
      "cell_type": "code",
      "execution_count": 27,
      "metadata": {
        "id": "Xjq9pjCP7sZ5"
      },
      "outputs": [],
      "source": [
        "# Opposites\n",
        "\n",
        "opp_hash = []\n",
        "highly_similar = []\n",
        "high_value = []\n",
        "low_value = []\n",
        "\n",
        "for node_details in list(G.edges(data=True)):\n",
        "  if \"weight\" in node_details[2]:\n",
        "      if node_details[2]['weight'] == float(\"-inf\"):\n",
        "        opp_hash.append(node_details)\n",
        "      \n",
        "      if node_details[2]['weight'] >= 3  and node_details[2]['weight'] <= 3.5:\n",
        "        highly_similar.append(node_details)\n",
        "      \n",
        "      if node_details[2]['weight'] >= 10:\n",
        "        high_value.append(node_details)\n",
        "\n",
        "      if node_details[2]['weight'] <= 0.05:\n",
        "        low_value.append(node_details)\n",
        "\n"
      ]
    },
    {
      "cell_type": "markdown",
      "metadata": {
        "id": "7Yy9-wJm74Mv"
      },
      "source": [
        "## View Values"
      ]
    },
    {
      "cell_type": "code",
      "execution_count": 28,
      "metadata": {
        "colab": {
          "base_uri": "https://localhost:8080/"
        },
        "id": "8EZbBumW722h",
        "outputId": "eca19241-139e-4a66-f51e-63c565dc4eb8"
      },
      "outputs": [
        {
          "data": {
            "text/plain": [
              "[('#moscowmitchmcconnell',\n",
              "  '#votebidenharris',\n",
              "  {'weight': -0.30461969326740246}),\n",
              " ('#rncbullshit', '#rnc2020', {'weight': -0.15930961813750266}),\n",
              " ('#bluenomatterwho', '#bluewave2020', {'weight': -0.2840932418138804}),\n",
              " ('#resisters', '#usps', {'weight': -0.02235696172120139}),\n",
              " ('#trump2020', '#stimuluschecks', {'weight': -0.3154900929005452}),\n",
              " ('#palpatine', '#trump', {'weight': 0.004730048643476034}),\n",
              " ('#vadems', '#bidenharris2020', {'weight': -0.030286274701338246}),\n",
              " ('#trumphatesourtroops', '#voteblue', {'weight': 0.007737564630753352}),\n",
              " ('#joebiden', '#nicetry', {'weight': 0.019561933844617335}),\n",
              " ('#bidenharris2020', '#mvpharris', {'weight': -0.11476568458392017})]"
            ]
          },
          "execution_count": 28,
          "metadata": {},
          "output_type": "execute_result"
        }
      ],
      "source": [
        "random.sample(low_value, 10)"
      ]
    },
    {
      "cell_type": "code",
      "execution_count": 29,
      "metadata": {
        "colab": {
          "base_uri": "https://localhost:8080/"
        },
        "id": "RYlt_bbY72z5",
        "outputId": "1febe121-028e-48c7-e0d0-44c02010892a"
      },
      "outputs": [
        {
          "data": {
            "text/plain": [
              "[('#maga', '#maga2020', {'weight': 31.14295328389213}),\n",
              " ('#trump2020', '#kag2020', {'weight': 14.436090408271937}),\n",
              " ('#americafirst', '#trump2020', {'weight': 14.423378353260086}),\n",
              " ('#trump2020', '#debates2020', {'weight': 15.706115489721649}),\n",
              " ('#maga2020', '#kag2020', {'weight': 10.320140906684134}),\n",
              " ('#maga', '#trump2020', {'weight': 94.90430131032821}),\n",
              " ('#trump2020landslide', '#trump2020', {'weight': 21.37371655362981}),\n",
              " ('#trump2020landslide', '#maga', {'weight': 11.718115241374608}),\n",
              " ('#votebluetosaveamerica',\n",
              "  '#bidenharris2020',\n",
              "  {'weight': 15.864809380997025}),\n",
              " ('#maga', '#trump', {'weight': 24.143961855505452})]"
            ]
          },
          "execution_count": 29,
          "metadata": {},
          "output_type": "execute_result"
        }
      ],
      "source": [
        "random.sample(high_value, 10)"
      ]
    },
    {
      "cell_type": "code",
      "execution_count": 30,
      "metadata": {
        "colab": {
          "base_uri": "https://localhost:8080/"
        },
        "id": "-sC4OqHo72xD",
        "outputId": "e8efd31f-0552-4da8-e846-653c6294f2da"
      },
      "outputs": [
        {
          "data": {
            "text/plain": [
              "[('#biden2020', '#votebluetosaveamerica2020', {'weight': 3.329124256417508}),\n",
              " ('#usa', '#trump', {'weight': 3.199428300629539}),\n",
              " ('#votebluetosaveamerica',\n",
              "  '#bidenharris2020landslide',\n",
              "  {'weight': 3.1895369254100934}),\n",
              " ('#votebluetosaveamerica',\n",
              "  '#voteoutcorruptgop',\n",
              "  {'weight': 3.0639912976384034}),\n",
              " ('#biden2020', '#voteblue', {'weight': 3.3849370108485073}),\n",
              " ('#americafirst', '#kag', {'weight': 3.368441753117243}),\n",
              " ('#votebidenharris2020', '#bidenharris2020', {'weight': 3.33817283053185}),\n",
              " ('#trump2020', '#election2020', {'weight': 3.253073332569817}),\n",
              " ('#bidenharris', '#bidenwonthedebate', {'weight': 3.189086663320908}),\n",
              " ('#america', '#americafirst', {'weight': 3.4294012394533686})]"
            ]
          },
          "execution_count": 30,
          "metadata": {},
          "output_type": "execute_result"
        }
      ],
      "source": [
        "random.sample(highly_similar, 10)"
      ]
    },
    {
      "cell_type": "code",
      "execution_count": null,
      "metadata": {},
      "outputs": [],
      "source": [
        "random.sample(opp_hash, 10)"
      ]
    },
    {
      "cell_type": "code",
      "execution_count": 32,
      "metadata": {
        "colab": {
          "base_uri": "https://localhost:8080/"
        },
        "id": "ZXikUk7r8AY9",
        "outputId": "e581128a-4ebb-4e1e-875a-ae0e859fac3f"
      },
      "outputs": [
        {
          "data": {
            "text/plain": [
              "(Counter({'AGAINST': 143, 'FAVOR': 490}),\n",
              " Counter({'AGAINST': 29, 'FAVOR': 465}))"
            ]
          },
          "execution_count": 32,
          "metadata": {},
          "output_type": "execute_result"
        }
      ],
      "source": [
        "# Ratio problem \n",
        "factor_raw_dict['#trump'], factor_raw_dict['#trump2020']"
      ]
    },
    {
      "cell_type": "markdown",
      "metadata": {
        "id": "CJKJrQ-98EOx"
      },
      "source": [
        "## Reduce and Group Detection"
      ]
    },
    {
      "cell_type": "code",
      "execution_count": 33,
      "metadata": {
        "colab": {
          "base_uri": "https://localhost:8080/",
          "height": 238
        },
        "id": "MS2qDix78Dkn",
        "outputId": "47fc0d90-fab0-456f-ee8b-540158d1af22"
      },
      "outputs": [
        {
          "name": "stdout",
          "output_type": "stream",
          "text": [
            "number removed 12.00\n",
            "removal of 5543.00 edges\n"
          ]
        },
        {
          "data": {
            "text/html": [
              "\n",
              "  <div id=\"df-effd1def-a882-4e7a-9231-d37b54cf2799\">\n",
              "    <div class=\"colab-df-container\">\n",
              "      <div>\n",
              "<style scoped>\n",
              "    .dataframe tbody tr th:only-of-type {\n",
              "        vertical-align: middle;\n",
              "    }\n",
              "\n",
              "    .dataframe tbody tr th {\n",
              "        vertical-align: top;\n",
              "    }\n",
              "\n",
              "    .dataframe thead th {\n",
              "        text-align: right;\n",
              "    }\n",
              "</style>\n",
              "<table border=\"1\" class=\"dataframe\">\n",
              "  <thead>\n",
              "    <tr style=\"text-align: right;\">\n",
              "      <th></th>\n",
              "      <th>hash</th>\n",
              "      <th>value</th>\n",
              "    </tr>\n",
              "  </thead>\n",
              "  <tbody>\n",
              "    <tr>\n",
              "      <th>0</th>\n",
              "      <td>#thegreatawaking</td>\n",
              "      <td>0</td>\n",
              "    </tr>\n",
              "    <tr>\n",
              "      <th>1</th>\n",
              "      <td>#miga</td>\n",
              "      <td>1</td>\n",
              "    </tr>\n",
              "    <tr>\n",
              "      <th>2</th>\n",
              "      <td>#republican</td>\n",
              "      <td>2</td>\n",
              "    </tr>\n",
              "    <tr>\n",
              "      <th>3</th>\n",
              "      <td>#nfl</td>\n",
              "      <td>3</td>\n",
              "    </tr>\n",
              "    <tr>\n",
              "      <th>4</th>\n",
              "      <td>#northcarolina</td>\n",
              "      <td>4</td>\n",
              "    </tr>\n",
              "  </tbody>\n",
              "</table>\n",
              "</div>\n",
              "      <button class=\"colab-df-convert\" onclick=\"convertToInteractive('df-effd1def-a882-4e7a-9231-d37b54cf2799')\"\n",
              "              title=\"Convert this dataframe to an interactive table.\"\n",
              "              style=\"display:none;\">\n",
              "        \n",
              "  <svg xmlns=\"http://www.w3.org/2000/svg\" height=\"24px\"viewBox=\"0 0 24 24\"\n",
              "       width=\"24px\">\n",
              "    <path d=\"M0 0h24v24H0V0z\" fill=\"none\"/>\n",
              "    <path d=\"M18.56 5.44l.94 2.06.94-2.06 2.06-.94-2.06-.94-.94-2.06-.94 2.06-2.06.94zm-11 1L8.5 8.5l.94-2.06 2.06-.94-2.06-.94L8.5 2.5l-.94 2.06-2.06.94zm10 10l.94 2.06.94-2.06 2.06-.94-2.06-.94-.94-2.06-.94 2.06-2.06.94z\"/><path d=\"M17.41 7.96l-1.37-1.37c-.4-.4-.92-.59-1.43-.59-.52 0-1.04.2-1.43.59L10.3 9.45l-7.72 7.72c-.78.78-.78 2.05 0 2.83L4 21.41c.39.39.9.59 1.41.59.51 0 1.02-.2 1.41-.59l7.78-7.78 2.81-2.81c.8-.78.8-2.07 0-2.86zM5.41 20L4 18.59l7.72-7.72 1.47 1.35L5.41 20z\"/>\n",
              "  </svg>\n",
              "      </button>\n",
              "      \n",
              "  <style>\n",
              "    .colab-df-container {\n",
              "      display:flex;\n",
              "      flex-wrap:wrap;\n",
              "      gap: 12px;\n",
              "    }\n",
              "\n",
              "    .colab-df-convert {\n",
              "      background-color: #E8F0FE;\n",
              "      border: none;\n",
              "      border-radius: 50%;\n",
              "      cursor: pointer;\n",
              "      display: none;\n",
              "      fill: #1967D2;\n",
              "      height: 32px;\n",
              "      padding: 0 0 0 0;\n",
              "      width: 32px;\n",
              "    }\n",
              "\n",
              "    .colab-df-convert:hover {\n",
              "      background-color: #E2EBFA;\n",
              "      box-shadow: 0px 1px 2px rgba(60, 64, 67, 0.3), 0px 1px 3px 1px rgba(60, 64, 67, 0.15);\n",
              "      fill: #174EA6;\n",
              "    }\n",
              "\n",
              "    [theme=dark] .colab-df-convert {\n",
              "      background-color: #3B4455;\n",
              "      fill: #D2E3FC;\n",
              "    }\n",
              "\n",
              "    [theme=dark] .colab-df-convert:hover {\n",
              "      background-color: #434B5C;\n",
              "      box-shadow: 0px 1px 3px 1px rgba(0, 0, 0, 0.15);\n",
              "      filter: drop-shadow(0px 1px 2px rgba(0, 0, 0, 0.3));\n",
              "      fill: #FFFFFF;\n",
              "    }\n",
              "  </style>\n",
              "\n",
              "      <script>\n",
              "        const buttonEl =\n",
              "          document.querySelector('#df-effd1def-a882-4e7a-9231-d37b54cf2799 button.colab-df-convert');\n",
              "        buttonEl.style.display =\n",
              "          google.colab.kernel.accessAllowed ? 'block' : 'none';\n",
              "\n",
              "        async function convertToInteractive(key) {\n",
              "          const element = document.querySelector('#df-effd1def-a882-4e7a-9231-d37b54cf2799');\n",
              "          const dataTable =\n",
              "            await google.colab.kernel.invokeFunction('convertToInteractive',\n",
              "                                                     [key], {});\n",
              "          if (!dataTable) return;\n",
              "\n",
              "          const docLinkHtml = 'Like what you see? Visit the ' +\n",
              "            '<a target=\"_blank\" href=https://colab.research.google.com/notebooks/data_table.ipynb>data table notebook</a>'\n",
              "            + ' to learn more about interactive tables.';\n",
              "          element.innerHTML = '';\n",
              "          dataTable['output_type'] = 'display_data';\n",
              "          await google.colab.output.renderOutput(dataTable, element);\n",
              "          const docLink = document.createElement('div');\n",
              "          docLink.innerHTML = docLinkHtml;\n",
              "          element.appendChild(docLink);\n",
              "        }\n",
              "      </script>\n",
              "    </div>\n",
              "  </div>\n",
              "  "
            ],
            "text/plain": [
              "               hash value\n",
              "0  #thegreatawaking     0\n",
              "1             #miga     1\n",
              "2       #republican     2\n",
              "3              #nfl     3\n",
              "4    #northcarolina     4"
            ]
          },
          "execution_count": 33,
          "metadata": {},
          "output_type": "execute_result"
        }
      ],
      "source": [
        "count_no_neigh =  0 \n",
        "for n1 in list(G.nodes(data=True)):\n",
        "    if len(list(G.neighbors(n1[0]))) <= 3:\n",
        "        G.remove_node(n1[0])\n",
        "        count_no_neigh += 1\n",
        "print(\"number removed {count_no:.2f}\".format(count_no= count_no_neigh))\n",
        "\n",
        "removed_total_edge = 0\n",
        "for node_details in list(G.edges(data=True)):\n",
        "  try:\n",
        "    if node_details[2]['weight'] < 2:\n",
        "      e = (node_details[0], node_details[1])\n",
        "      removed_total_edge+= 1\n",
        "      G.remove_edge(*e)\n",
        "  except:\n",
        "    print(node_details[0],node_details[1])\n",
        "   \n",
        "print(\"removal of {removed:.2f} edges\".format(removed=removed_total_edge))\n",
        "\n",
        "communities_generator = community.girvan_newman(G)\n",
        "#first compute the best partition\n",
        "partition = community_louvain.best_partition(G,  weight='weight')\n",
        "data_partition = pd.DataFrame(partition.items(), columns = ['hash','value'] )\n",
        "data_partition['value'] = data_partition['value'].apply(lambda x:str(x))\n",
        "data_partition.head()"
      ]
    },
    {
      "cell_type": "markdown",
      "metadata": {
        "id": "IJC3hBOD8Oo9"
      },
      "source": [
        "## Group Selection (Final)\n",
        "Filter for the relevant group "
      ]
    },
    {
      "cell_type": "code",
      "execution_count": 34,
      "metadata": {
        "colab": {
          "base_uri": "https://localhost:8080/",
          "height": 359
        },
        "id": "Z3DF5zsP8PM1",
        "outputId": "1d313367-a541-4dbf-f176-cb1586dda748"
      },
      "outputs": [
        {
          "data": {
            "text/html": [
              "\n",
              "  <div id=\"df-c20ebfe8-c7b7-416c-8d4c-5922373f5567\">\n",
              "    <div class=\"colab-df-container\">\n",
              "      <div>\n",
              "<style scoped>\n",
              "    .dataframe tbody tr th:only-of-type {\n",
              "        vertical-align: middle;\n",
              "    }\n",
              "\n",
              "    .dataframe tbody tr th {\n",
              "        vertical-align: top;\n",
              "    }\n",
              "\n",
              "    .dataframe thead th {\n",
              "        text-align: right;\n",
              "    }\n",
              "</style>\n",
              "<table border=\"1\" class=\"dataframe\">\n",
              "  <thead>\n",
              "    <tr style=\"text-align: right;\">\n",
              "      <th></th>\n",
              "      <th>value</th>\n",
              "      <th>hash</th>\n",
              "    </tr>\n",
              "  </thead>\n",
              "  <tbody>\n",
              "    <tr>\n",
              "      <th>13</th>\n",
              "      <td>11</td>\n",
              "      <td>55</td>\n",
              "    </tr>\n",
              "    <tr>\n",
              "      <th>98</th>\n",
              "      <td>187</td>\n",
              "      <td>49</td>\n",
              "    </tr>\n",
              "    <tr>\n",
              "      <th>457</th>\n",
              "      <td>51</td>\n",
              "      <td>11</td>\n",
              "    </tr>\n",
              "    <tr>\n",
              "      <th>73</th>\n",
              "      <td>164</td>\n",
              "      <td>6</td>\n",
              "    </tr>\n",
              "    <tr>\n",
              "      <th>82</th>\n",
              "      <td>172</td>\n",
              "      <td>5</td>\n",
              "    </tr>\n",
              "    <tr>\n",
              "      <th>415</th>\n",
              "      <td>472</td>\n",
              "      <td>5</td>\n",
              "    </tr>\n",
              "    <tr>\n",
              "      <th>45</th>\n",
              "      <td>139</td>\n",
              "      <td>5</td>\n",
              "    </tr>\n",
              "    <tr>\n",
              "      <th>96</th>\n",
              "      <td>185</td>\n",
              "      <td>5</td>\n",
              "    </tr>\n",
              "    <tr>\n",
              "      <th>672</th>\n",
              "      <td>73</td>\n",
              "      <td>5</td>\n",
              "    </tr>\n",
              "    <tr>\n",
              "      <th>157</th>\n",
              "      <td>24</td>\n",
              "      <td>4</td>\n",
              "    </tr>\n",
              "  </tbody>\n",
              "</table>\n",
              "</div>\n",
              "      <button class=\"colab-df-convert\" onclick=\"convertToInteractive('df-c20ebfe8-c7b7-416c-8d4c-5922373f5567')\"\n",
              "              title=\"Convert this dataframe to an interactive table.\"\n",
              "              style=\"display:none;\">\n",
              "        \n",
              "  <svg xmlns=\"http://www.w3.org/2000/svg\" height=\"24px\"viewBox=\"0 0 24 24\"\n",
              "       width=\"24px\">\n",
              "    <path d=\"M0 0h24v24H0V0z\" fill=\"none\"/>\n",
              "    <path d=\"M18.56 5.44l.94 2.06.94-2.06 2.06-.94-2.06-.94-.94-2.06-.94 2.06-2.06.94zm-11 1L8.5 8.5l.94-2.06 2.06-.94-2.06-.94L8.5 2.5l-.94 2.06-2.06.94zm10 10l.94 2.06.94-2.06 2.06-.94-2.06-.94-.94-2.06-.94 2.06-2.06.94z\"/><path d=\"M17.41 7.96l-1.37-1.37c-.4-.4-.92-.59-1.43-.59-.52 0-1.04.2-1.43.59L10.3 9.45l-7.72 7.72c-.78.78-.78 2.05 0 2.83L4 21.41c.39.39.9.59 1.41.59.51 0 1.02-.2 1.41-.59l7.78-7.78 2.81-2.81c.8-.78.8-2.07 0-2.86zM5.41 20L4 18.59l7.72-7.72 1.47 1.35L5.41 20z\"/>\n",
              "  </svg>\n",
              "      </button>\n",
              "      \n",
              "  <style>\n",
              "    .colab-df-container {\n",
              "      display:flex;\n",
              "      flex-wrap:wrap;\n",
              "      gap: 12px;\n",
              "    }\n",
              "\n",
              "    .colab-df-convert {\n",
              "      background-color: #E8F0FE;\n",
              "      border: none;\n",
              "      border-radius: 50%;\n",
              "      cursor: pointer;\n",
              "      display: none;\n",
              "      fill: #1967D2;\n",
              "      height: 32px;\n",
              "      padding: 0 0 0 0;\n",
              "      width: 32px;\n",
              "    }\n",
              "\n",
              "    .colab-df-convert:hover {\n",
              "      background-color: #E2EBFA;\n",
              "      box-shadow: 0px 1px 2px rgba(60, 64, 67, 0.3), 0px 1px 3px 1px rgba(60, 64, 67, 0.15);\n",
              "      fill: #174EA6;\n",
              "    }\n",
              "\n",
              "    [theme=dark] .colab-df-convert {\n",
              "      background-color: #3B4455;\n",
              "      fill: #D2E3FC;\n",
              "    }\n",
              "\n",
              "    [theme=dark] .colab-df-convert:hover {\n",
              "      background-color: #434B5C;\n",
              "      box-shadow: 0px 1px 3px 1px rgba(0, 0, 0, 0.15);\n",
              "      filter: drop-shadow(0px 1px 2px rgba(0, 0, 0, 0.3));\n",
              "      fill: #FFFFFF;\n",
              "    }\n",
              "  </style>\n",
              "\n",
              "      <script>\n",
              "        const buttonEl =\n",
              "          document.querySelector('#df-c20ebfe8-c7b7-416c-8d4c-5922373f5567 button.colab-df-convert');\n",
              "        buttonEl.style.display =\n",
              "          google.colab.kernel.accessAllowed ? 'block' : 'none';\n",
              "\n",
              "        async function convertToInteractive(key) {\n",
              "          const element = document.querySelector('#df-c20ebfe8-c7b7-416c-8d4c-5922373f5567');\n",
              "          const dataTable =\n",
              "            await google.colab.kernel.invokeFunction('convertToInteractive',\n",
              "                                                     [key], {});\n",
              "          if (!dataTable) return;\n",
              "\n",
              "          const docLinkHtml = 'Like what you see? Visit the ' +\n",
              "            '<a target=\"_blank\" href=https://colab.research.google.com/notebooks/data_table.ipynb>data table notebook</a>'\n",
              "            + ' to learn more about interactive tables.';\n",
              "          element.innerHTML = '';\n",
              "          dataTable['output_type'] = 'display_data';\n",
              "          await google.colab.output.renderOutput(dataTable, element);\n",
              "          const docLink = document.createElement('div');\n",
              "          docLink.innerHTML = docLinkHtml;\n",
              "          element.appendChild(docLink);\n",
              "        }\n",
              "      </script>\n",
              "    </div>\n",
              "  </div>\n",
              "  "
            ],
            "text/plain": [
              "    value  hash\n",
              "13     11    55\n",
              "98    187    49\n",
              "457    51    11\n",
              "73    164     6\n",
              "82    172     5\n",
              "415   472     5\n",
              "45    139     5\n",
              "96    185     5\n",
              "672    73     5\n",
              "157    24     4"
            ]
          },
          "execution_count": 34,
          "metadata": {},
          "output_type": "execute_result"
        }
      ],
      "source": [
        "value_df = pd.DataFrame(data_partition.groupby('value').agg('count').reset_index())\n",
        "value_df = value_df.sort_values(by='hash',ascending=False)\n",
        "value_df.head(10)"
      ]
    },
    {
      "cell_type": "code",
      "execution_count": 40,
      "metadata": {
        "colab": {
          "base_uri": "https://localhost:8080/",
          "height": 1000
        },
        "id": "Blf1LuHz8XdC",
        "outputId": "ac4f04e4-7199-4c52-d2fc-b23a47f9d156"
      },
      "outputs": [
        {
          "data": {
            "text/html": [
              "\n",
              "  <div id=\"df-fb63eb29-8b35-41fb-83f0-a78938f0dc49\">\n",
              "    <div class=\"colab-df-container\">\n",
              "      <div>\n",
              "<style scoped>\n",
              "    .dataframe tbody tr th:only-of-type {\n",
              "        vertical-align: middle;\n",
              "    }\n",
              "\n",
              "    .dataframe tbody tr th {\n",
              "        vertical-align: top;\n",
              "    }\n",
              "\n",
              "    .dataframe thead th {\n",
              "        text-align: right;\n",
              "    }\n",
              "</style>\n",
              "<table border=\"1\" class=\"dataframe\">\n",
              "  <thead>\n",
              "    <tr style=\"text-align: right;\">\n",
              "      <th></th>\n",
              "      <th>hash</th>\n",
              "      <th>value</th>\n",
              "    </tr>\n",
              "  </thead>\n",
              "  <tbody>\n",
              "    <tr>\n",
              "      <th>29</th>\n",
              "      <td>#antifa</td>\n",
              "      <td>187</td>\n",
              "    </tr>\n",
              "    <tr>\n",
              "      <th>78</th>\n",
              "      <td>#blacksfortrump</td>\n",
              "      <td>187</td>\n",
              "    </tr>\n",
              "    <tr>\n",
              "      <th>83</th>\n",
              "      <td>#trump2020landslide</td>\n",
              "      <td>187</td>\n",
              "    </tr>\n",
              "    <tr>\n",
              "      <th>164</th>\n",
              "      <td>#godwins</td>\n",
              "      <td>187</td>\n",
              "    </tr>\n",
              "    <tr>\n",
              "      <th>189</th>\n",
              "      <td>#blmterrorists</td>\n",
              "      <td>187</td>\n",
              "    </tr>\n",
              "    <tr>\n",
              "      <th>193</th>\n",
              "      <td>#america</td>\n",
              "      <td>187</td>\n",
              "    </tr>\n",
              "    <tr>\n",
              "      <th>196</th>\n",
              "      <td>#maga</td>\n",
              "      <td>187</td>\n",
              "    </tr>\n",
              "    <tr>\n",
              "      <th>210</th>\n",
              "      <td>#democratsaredestroyingamerica</td>\n",
              "      <td>187</td>\n",
              "    </tr>\n",
              "    <tr>\n",
              "      <th>217</th>\n",
              "      <td>#trumptrain</td>\n",
              "      <td>187</td>\n",
              "    </tr>\n",
              "    <tr>\n",
              "      <th>230</th>\n",
              "      <td>#4moreyears</td>\n",
              "      <td>187</td>\n",
              "    </tr>\n",
              "    <tr>\n",
              "      <th>234</th>\n",
              "      <td>#votered</td>\n",
              "      <td>187</td>\n",
              "    </tr>\n",
              "    <tr>\n",
              "      <th>244</th>\n",
              "      <td>#americafirst</td>\n",
              "      <td>187</td>\n",
              "    </tr>\n",
              "    <tr>\n",
              "      <th>246</th>\n",
              "      <td>#backtheblue</td>\n",
              "      <td>187</td>\n",
              "    </tr>\n",
              "    <tr>\n",
              "      <th>256</th>\n",
              "      <td>#trump2020</td>\n",
              "      <td>187</td>\n",
              "    </tr>\n",
              "    <tr>\n",
              "      <th>278</th>\n",
              "      <td>#wwg1wga</td>\n",
              "      <td>187</td>\n",
              "    </tr>\n",
              "    <tr>\n",
              "      <th>282</th>\n",
              "      <td>#sleepyjoe</td>\n",
              "      <td>187</td>\n",
              "    </tr>\n",
              "    <tr>\n",
              "      <th>284</th>\n",
              "      <td>#election2020</td>\n",
              "      <td>187</td>\n",
              "    </tr>\n",
              "    <tr>\n",
              "      <th>313</th>\n",
              "      <td>#votered2020</td>\n",
              "      <td>187</td>\n",
              "    </tr>\n",
              "    <tr>\n",
              "      <th>323</th>\n",
              "      <td>#kag2020landslidevictory</td>\n",
              "      <td>187</td>\n",
              "    </tr>\n",
              "    <tr>\n",
              "      <th>357</th>\n",
              "      <td>#alllivesmattter</td>\n",
              "      <td>187</td>\n",
              "    </tr>\n",
              "    <tr>\n",
              "      <th>374</th>\n",
              "      <td>#draintheswamp</td>\n",
              "      <td>187</td>\n",
              "    </tr>\n",
              "    <tr>\n",
              "      <th>378</th>\n",
              "      <td>#maga2020</td>\n",
              "      <td>187</td>\n",
              "    </tr>\n",
              "    <tr>\n",
              "      <th>382</th>\n",
              "      <td>#democrats</td>\n",
              "      <td>187</td>\n",
              "    </tr>\n",
              "    <tr>\n",
              "      <th>429</th>\n",
              "      <td>#alllivesmatter</td>\n",
              "      <td>187</td>\n",
              "    </tr>\n",
              "    <tr>\n",
              "      <th>438</th>\n",
              "      <td>#gop</td>\n",
              "      <td>187</td>\n",
              "    </tr>\n",
              "    <tr>\n",
              "      <th>444</th>\n",
              "      <td>#godblessamerica</td>\n",
              "      <td>187</td>\n",
              "    </tr>\n",
              "    <tr>\n",
              "      <th>490</th>\n",
              "      <td>#kag</td>\n",
              "      <td>187</td>\n",
              "    </tr>\n",
              "    <tr>\n",
              "      <th>494</th>\n",
              "      <td>#presidenttrump</td>\n",
              "      <td>187</td>\n",
              "    </tr>\n",
              "    <tr>\n",
              "      <th>503</th>\n",
              "      <td>#qanon</td>\n",
              "      <td>187</td>\n",
              "    </tr>\n",
              "    <tr>\n",
              "      <th>528</th>\n",
              "      <td>#walkawayfromdemocrats</td>\n",
              "      <td>187</td>\n",
              "    </tr>\n",
              "    <tr>\n",
              "      <th>534</th>\n",
              "      <td>#usa</td>\n",
              "      <td>187</td>\n",
              "    </tr>\n",
              "    <tr>\n",
              "      <th>549</th>\n",
              "      <td>#1a</td>\n",
              "      <td>187</td>\n",
              "    </tr>\n",
              "    <tr>\n",
              "      <th>580</th>\n",
              "      <td>#trumpknew</td>\n",
              "      <td>187</td>\n",
              "    </tr>\n",
              "    <tr>\n",
              "      <th>587</th>\n",
              "      <td>#buildthewall</td>\n",
              "      <td>187</td>\n",
              "    </tr>\n",
              "    <tr>\n",
              "      <th>590</th>\n",
              "      <td>#google</td>\n",
              "      <td>187</td>\n",
              "    </tr>\n",
              "    <tr>\n",
              "      <th>638</th>\n",
              "      <td>#liberalismisamentaldisorder</td>\n",
              "      <td>187</td>\n",
              "    </tr>\n",
              "    <tr>\n",
              "      <th>651</th>\n",
              "      <td>#voteredtosaveamerica</td>\n",
              "      <td>187</td>\n",
              "    </tr>\n",
              "    <tr>\n",
              "      <th>672</th>\n",
              "      <td>#fourmoreyears</td>\n",
              "      <td>187</td>\n",
              "    </tr>\n",
              "    <tr>\n",
              "      <th>713</th>\n",
              "      <td>#minnesota</td>\n",
              "      <td>187</td>\n",
              "    </tr>\n",
              "    <tr>\n",
              "      <th>721</th>\n",
              "      <td>#kag2020</td>\n",
              "      <td>187</td>\n",
              "    </tr>\n",
              "    <tr>\n",
              "      <th>732</th>\n",
              "      <td>#walkaway</td>\n",
              "      <td>187</td>\n",
              "    </tr>\n",
              "    <tr>\n",
              "      <th>760</th>\n",
              "      <td>#patriots</td>\n",
              "      <td>187</td>\n",
              "    </tr>\n",
              "    <tr>\n",
              "      <th>771</th>\n",
              "      <td>#voteredtosaveamerica2020</td>\n",
              "      <td>187</td>\n",
              "    </tr>\n",
              "    <tr>\n",
              "      <th>790</th>\n",
              "      <td>#trump</td>\n",
              "      <td>187</td>\n",
              "    </tr>\n",
              "    <tr>\n",
              "      <th>792</th>\n",
              "      <td>#democrat</td>\n",
              "      <td>187</td>\n",
              "    </tr>\n",
              "    <tr>\n",
              "      <th>794</th>\n",
              "      <td>#blm</td>\n",
              "      <td>187</td>\n",
              "    </tr>\n",
              "    <tr>\n",
              "      <th>829</th>\n",
              "      <td>#trumplandslide2020</td>\n",
              "      <td>187</td>\n",
              "    </tr>\n",
              "    <tr>\n",
              "      <th>851</th>\n",
              "      <td>#usps</td>\n",
              "      <td>187</td>\n",
              "    </tr>\n",
              "    <tr>\n",
              "      <th>852</th>\n",
              "      <td>#lawandorder</td>\n",
              "      <td>187</td>\n",
              "    </tr>\n",
              "  </tbody>\n",
              "</table>\n",
              "</div>\n",
              "      <button class=\"colab-df-convert\" onclick=\"convertToInteractive('df-fb63eb29-8b35-41fb-83f0-a78938f0dc49')\"\n",
              "              title=\"Convert this dataframe to an interactive table.\"\n",
              "              style=\"display:none;\">\n",
              "        \n",
              "  <svg xmlns=\"http://www.w3.org/2000/svg\" height=\"24px\"viewBox=\"0 0 24 24\"\n",
              "       width=\"24px\">\n",
              "    <path d=\"M0 0h24v24H0V0z\" fill=\"none\"/>\n",
              "    <path d=\"M18.56 5.44l.94 2.06.94-2.06 2.06-.94-2.06-.94-.94-2.06-.94 2.06-2.06.94zm-11 1L8.5 8.5l.94-2.06 2.06-.94-2.06-.94L8.5 2.5l-.94 2.06-2.06.94zm10 10l.94 2.06.94-2.06 2.06-.94-2.06-.94-.94-2.06-.94 2.06-2.06.94z\"/><path d=\"M17.41 7.96l-1.37-1.37c-.4-.4-.92-.59-1.43-.59-.52 0-1.04.2-1.43.59L10.3 9.45l-7.72 7.72c-.78.78-.78 2.05 0 2.83L4 21.41c.39.39.9.59 1.41.59.51 0 1.02-.2 1.41-.59l7.78-7.78 2.81-2.81c.8-.78.8-2.07 0-2.86zM5.41 20L4 18.59l7.72-7.72 1.47 1.35L5.41 20z\"/>\n",
              "  </svg>\n",
              "      </button>\n",
              "      \n",
              "  <style>\n",
              "    .colab-df-container {\n",
              "      display:flex;\n",
              "      flex-wrap:wrap;\n",
              "      gap: 12px;\n",
              "    }\n",
              "\n",
              "    .colab-df-convert {\n",
              "      background-color: #E8F0FE;\n",
              "      border: none;\n",
              "      border-radius: 50%;\n",
              "      cursor: pointer;\n",
              "      display: none;\n",
              "      fill: #1967D2;\n",
              "      height: 32px;\n",
              "      padding: 0 0 0 0;\n",
              "      width: 32px;\n",
              "    }\n",
              "\n",
              "    .colab-df-convert:hover {\n",
              "      background-color: #E2EBFA;\n",
              "      box-shadow: 0px 1px 2px rgba(60, 64, 67, 0.3), 0px 1px 3px 1px rgba(60, 64, 67, 0.15);\n",
              "      fill: #174EA6;\n",
              "    }\n",
              "\n",
              "    [theme=dark] .colab-df-convert {\n",
              "      background-color: #3B4455;\n",
              "      fill: #D2E3FC;\n",
              "    }\n",
              "\n",
              "    [theme=dark] .colab-df-convert:hover {\n",
              "      background-color: #434B5C;\n",
              "      box-shadow: 0px 1px 3px 1px rgba(0, 0, 0, 0.15);\n",
              "      filter: drop-shadow(0px 1px 2px rgba(0, 0, 0, 0.3));\n",
              "      fill: #FFFFFF;\n",
              "    }\n",
              "  </style>\n",
              "\n",
              "      <script>\n",
              "        const buttonEl =\n",
              "          document.querySelector('#df-fb63eb29-8b35-41fb-83f0-a78938f0dc49 button.colab-df-convert');\n",
              "        buttonEl.style.display =\n",
              "          google.colab.kernel.accessAllowed ? 'block' : 'none';\n",
              "\n",
              "        async function convertToInteractive(key) {\n",
              "          const element = document.querySelector('#df-fb63eb29-8b35-41fb-83f0-a78938f0dc49');\n",
              "          const dataTable =\n",
              "            await google.colab.kernel.invokeFunction('convertToInteractive',\n",
              "                                                     [key], {});\n",
              "          if (!dataTable) return;\n",
              "\n",
              "          const docLinkHtml = 'Like what you see? Visit the ' +\n",
              "            '<a target=\"_blank\" href=https://colab.research.google.com/notebooks/data_table.ipynb>data table notebook</a>'\n",
              "            + ' to learn more about interactive tables.';\n",
              "          element.innerHTML = '';\n",
              "          dataTable['output_type'] = 'display_data';\n",
              "          await google.colab.output.renderOutput(dataTable, element);\n",
              "          const docLink = document.createElement('div');\n",
              "          docLink.innerHTML = docLinkHtml;\n",
              "          element.appendChild(docLink);\n",
              "        }\n",
              "      </script>\n",
              "    </div>\n",
              "  </div>\n",
              "  "
            ],
            "text/plain": [
              "                               hash value\n",
              "29                          #antifa   187\n",
              "78                  #blacksfortrump   187\n",
              "83              #trump2020landslide   187\n",
              "164                        #godwins   187\n",
              "189                  #blmterrorists   187\n",
              "193                        #america   187\n",
              "196                           #maga   187\n",
              "210  #democratsaredestroyingamerica   187\n",
              "217                     #trumptrain   187\n",
              "230                     #4moreyears   187\n",
              "234                        #votered   187\n",
              "244                   #americafirst   187\n",
              "246                    #backtheblue   187\n",
              "256                      #trump2020   187\n",
              "278                        #wwg1wga   187\n",
              "282                      #sleepyjoe   187\n",
              "284                   #election2020   187\n",
              "313                    #votered2020   187\n",
              "323        #kag2020landslidevictory   187\n",
              "357                #alllivesmattter   187\n",
              "374                  #draintheswamp   187\n",
              "378                       #maga2020   187\n",
              "382                      #democrats   187\n",
              "429                 #alllivesmatter   187\n",
              "438                            #gop   187\n",
              "444                #godblessamerica   187\n",
              "490                            #kag   187\n",
              "494                 #presidenttrump   187\n",
              "503                          #qanon   187\n",
              "528          #walkawayfromdemocrats   187\n",
              "534                            #usa   187\n",
              "549                             #1a   187\n",
              "580                      #trumpknew   187\n",
              "587                   #buildthewall   187\n",
              "590                         #google   187\n",
              "638    #liberalismisamentaldisorder   187\n",
              "651           #voteredtosaveamerica   187\n",
              "672                  #fourmoreyears   187\n",
              "713                      #minnesota   187\n",
              "721                        #kag2020   187\n",
              "732                       #walkaway   187\n",
              "760                       #patriots   187\n",
              "771       #voteredtosaveamerica2020   187\n",
              "790                          #trump   187\n",
              "792                       #democrat   187\n",
              "794                            #blm   187\n",
              "829             #trumplandslide2020   187\n",
              "851                           #usps   187\n",
              "852                    #lawandorder   187"
            ]
          },
          "execution_count": 40,
          "metadata": {},
          "output_type": "execute_result"
        }
      ],
      "source": [
        "# Use this to filter for a specific partition \n",
        "# value is group number and hash is the number of nodes \n",
        "data_partition.loc[data_partition['value'] == '187']"
      ]
    },
    {
      "cell_type": "code",
      "execution_count": 43,
      "metadata": {
        "id": "ogvq6FUM8y_g"
      },
      "outputs": [],
      "source": [
        "sorted_values = sorted(partition.values()) # Sort the values\n",
        "sorted_dict = {}\n",
        "for i in sorted_values:\n",
        "    for k in partition.keys():\n",
        "        if partition[k] == i:\n",
        "            sorted_dict[k] = partition[k]\n",
        "            break"
      ]
    },
    {
      "cell_type": "code",
      "execution_count": 45,
      "metadata": {
        "colab": {
          "base_uri": "https://localhost:8080/"
        },
        "id": "FZT43bV18boS",
        "outputId": "deced8d0-12d8-4a14-f9d1-c4eca8ab77a5"
      },
      "outputs": [
        {
          "name": "stdout",
          "output_type": "stream",
          "text": [
            "Counter({'FAVOR': 7, 'AGAINST': 1}) #antifa\n",
            "Counter({'FAVOR': 8}) #blacksfortrump\n",
            "Counter({'FAVOR': 11}) #democratsaredestroyingamerica\n",
            "Counter({'FAVOR': 9, 'AGAINST': 1}) #trumptrain\n",
            "Counter({'FAVOR': 8}) #4moreyears\n",
            "Counter({'FAVOR': 31, 'AGAINST': 2}) #votered\n",
            "Counter({'FAVOR': 20, 'AGAINST': 3}) #americafirst\n",
            "Counter({'FAVOR': 465, 'AGAINST': 29}) #trump2020\n",
            "Counter({'FAVOR': 10}) #wwg1wga\n",
            "Counter({'FAVOR': 10}) #votered2020\n",
            "Counter({'FAVOR': 12}) #draintheswamp\n",
            "Counter({'FAVOR': 47, 'AGAINST': 4}) #maga2020\n",
            "Counter({'FAVOR': 73, 'AGAINST': 2}) #kag\n",
            "Counter({'FAVOR': 7}) #walkawayfromdemocrats\n",
            "Counter({'FAVOR': 16, 'AGAINST': 1}) #voteredtosaveamerica\n",
            "Counter({'FAVOR': 7}) #fourmoreyears\n",
            "Counter({'FAVOR': 24}) #kag2020\n",
            "Counter({'FAVOR': 13}) #walkaway\n",
            "Counter({'FAVOR': 8}) #patriots\n"
          ]
        }
      ],
      "source": [
        "# use to select a parition that suit the problem in this case a cluster that shows strong support for trump \n",
        "trump_df = data_partition.loc[data_partition['value'] == '187']\n",
        "trump_df_hash = list(trump_df['hash'])\n",
        "final_trump_hash = []\n",
        "for i in trump_df_hash:\n",
        "  if(factor_raw_dict[i]['FAVOR'] > factor_raw_dict[i]['AGAINST'] * 6 )and (factor_raw_dict[i]['FAVOR'] > 6): \n",
        "    print(factor_raw_dict[i], i )\n",
        "    final_trump_hash.append(i)\n"
      ]
    },
    {
      "cell_type": "markdown",
      "metadata": {
        "id": "0YEOKJENOBTX"
      },
      "source": [
        "### Final Selected Hashtags for Scaping "
      ]
    },
    {
      "cell_type": "code",
      "execution_count": 46,
      "metadata": {
        "colab": {
          "base_uri": "https://localhost:8080/"
        },
        "id": "L23Afz-MN_3D",
        "outputId": "1b57a063-3ef6-46d9-bbe1-99b5cc0d0e7c"
      },
      "outputs": [
        {
          "name": "stdout",
          "output_type": "stream",
          "text": [
            "['#antifa', '#blacksfortrump', '#democratsaredestroyingamerica', '#trumptrain', '#4moreyears', '#votered', '#americafirst', '#trump2020', '#wwg1wga', '#votered2020', '#draintheswamp', '#maga2020', '#kag', '#walkawayfromdemocrats', '#voteredtosaveamerica', '#fourmoreyears', '#kag2020', '#walkaway', '#patriots']\n"
          ]
        }
      ],
      "source": [
        "print(final_trump_hash)"
      ]
    },
    {
      "cell_type": "code",
      "execution_count": 42,
      "metadata": {
        "id": "_tAQYHLY8dJ-"
      },
      "outputs": [],
      "source": [
        "# # Save groups if needed\n",
        "# with open('sorted_dict_community.txt', 'w') as file:\n",
        "#      file.write(json.dumps(sorted_dict)) # use `json.loads` to do the reverse"
      ]
    },
    {
      "cell_type": "code",
      "execution_count": null,
      "metadata": {
        "id": "AbVWv3wEN7-e"
      },
      "outputs": [],
      "source": []
    }
  ],
  "metadata": {
    "colab": {
      "collapsed_sections": [
        "b6t8IVjq6E2r",
        "bXs6mRGO6G-o"
      ],
      "name": "Contextual_Hashtag_Selection",
      "provenance": []
    },
    "kernelspec": {
      "display_name": "Python 3",
      "name": "python3"
    },
    "language_info": {
      "name": "python"
    }
  },
  "nbformat": 4,
  "nbformat_minor": 0
}
